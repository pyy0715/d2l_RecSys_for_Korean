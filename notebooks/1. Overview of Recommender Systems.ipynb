{
 "cells": [
  {
   "cell_type": "markdown",
   "metadata": {
    "toc": true
   },
   "source": [
    "<h1>Table of Contents<span class=\"tocSkip\"></span></h1>\n",
    "<div class=\"toc\"><ul class=\"toc-item\"><li><span><a href=\"#Collaborative-Filtering\" data-toc-modified-id=\"Collaborative-Filtering-1\"><span class=\"toc-item-num\">1&nbsp;&nbsp;</span>Collaborative Filtering</a></span></li><li><span><a href=\"#Explicit-Feedback-and-Implicit-Feedback\" data-toc-modified-id=\"Explicit-Feedback-and-Implicit-Feedback-2\"><span class=\"toc-item-num\">2&nbsp;&nbsp;</span>Explicit Feedback and Implicit Feedback</a></span></li><li><span><a href=\"#Recommendation-Tasks\" data-toc-modified-id=\"Recommendation-Tasks-3\"><span class=\"toc-item-num\">3&nbsp;&nbsp;</span>Recommendation Tasks</a></span></li><li><span><a href=\"#Summary\" data-toc-modified-id=\"Summary-4\"><span class=\"toc-item-num\">4&nbsp;&nbsp;</span>Summary</a></span></li><li><span><a href=\"#Exercise\" data-toc-modified-id=\"Exercise-5\"><span class=\"toc-item-num\">5&nbsp;&nbsp;</span>Exercise</a></span></li></ul></div>"
   ]
  },
  {
   "cell_type": "markdown",
   "metadata": {},
   "source": [
    "지난 10년동안, 인터넷은 대규모의 온라인 서비스를 위한 플랫폼으로 진화해오면서, 우리가 커뮤니케이션, 뉴스를 읽거나, 물건을 사고, 영화를 시청하는 방식을 근본적으로 변화시켜왔습니다. 한편 온라인에서 엄청난 수의 아이템들이 나오게 되면서 우리가 선호하는 아이템들을 발견하도록 도와주는 시스템이 요구되었습니다. 추천시스템은 개인화된 서비스를 이용 가능하게 하고, 각 사용자에게 맞춤형 경험을 제공하므로 강력한 정보 필터링 도구입니다. \n",
    "\n",
    "즉, 추천 시스템은 선택을 관리하기 쉽게 만드는 데 사용할 수 있는 풍부한 데이터를 활용하는데 중추적인 역할을 합니다. 요즘 추천 시스템은 아마존, 넷플릭스와 유튜브와 같은 온라인 서비스 제공업체의 핵심 기술입니다.\n",
    "\n",
    "[Fig 1.3.3](https://d2l.ai/chapter_introduction/index.html#subsec-recommender-systems)에서 아마존이 추천하는 딥러닝 책의 예시를 확인할 수 있습니다. 추천 시스템을 사용하면 두 가지 이점이 있습니다. 한편으로는 사용자가 항목을 찾는 데 드는 노력을 크게 줄이고 정보 과부하 문제를 완화할 수 있습니다. 반면에 온라인 서비스 제공자에게 비즈니스 가치를 더할 수 있으며 중요한 수익원입니다. \n",
    "\n",
    "이 장에서는 구현된 예와 함께 추천 시스템 분야의 딥러닝에 대한 기본 개념, 클래식 모델 및 최근 발전 사항을 소개합니다"
   ]
  },
  {
   "cell_type": "markdown",
   "metadata": {},
   "source": [
    "![image.png](https://d2l.ai/_images/rec-intro.svg)"
   ]
  },
  {
   "cell_type": "markdown",
   "metadata": {},
   "source": [
    "## Collaborative Filtering"
   ]
  },
  {
   "cell_type": "markdown",
   "metadata": {},
   "source": [
    "추천 시스템에서의 중요한 개념인 collaborative filtering(CF)로부터 이야기를 시작합니다. CF는 처음 Tapestry 시스템 [Goldberg et al., 1992](https://d2l.ai/chapter_references/zreferences.html#goldberg-nichols-oki-ea-1992)에서 \"뉴스 그룹에 게시된 대량의 이메일과 메세지를 처리하기 위해\" 참조되었습니다. 이 용어의 의미는 좀 더 풍부해졌으며, 넓은 의미로 다수의 사용자, 에이전트 및 데이터 소스 간에 협업과 관련된 기술을 사용하여 정보 또는 패턴을 필터링하는 프로세스입니다. CF는 출현 이후 많은 형태와 수많은 CF 방법이 제안되어왔습니다.\n",
    "\n",
    "전반적으로, CF 기술들은 다음과 같이 분류될 수 있습니다. \n",
    "> memory-based CF, model-based CF, hybrid\n",
    "\n",
    "대표적인 memory-based CF 기술은 user-based CF와 item-based CF와 같은 nearsest neighbor-based CF 방법들입니다. matrix factorization과 같은 Latent factor 모델들은 model-based CF의 방법론 중 하나입니다. memory-based CF는 공통의 아이템들을 기반으로 유사도를 계산하기 위해 희소 데이터, 대규모의 데이터를 처리하는 데에는 한계가 있습니다.\n",
    "\n",
    "Model-based 기반의 방법들은 희소성과 확장성을 처리하는데 강점이 있기 때문에 점점 인기를 얻어가고 있습니다. 많은 model-based CF 접근법들은 neural networks로 확장되어왔으며, 딥러닝 [Zhang et al., 2019](https://d2l.ai/chapter_references/zreferences.html#zhang-yao-sun-ea-2019) 에서의 계산 가속을 통해 보다 유연하고 확장된 모델로 발전될 수 있었습니다. \n",
    "\n",
    "일반적으로 CF는 사용자-아이템 간의 interaction 데이터를 사용하여 예측이나 추천을 합니다. 게다가 CF 외에도 contents-based 및 context-based 추천 시스템은 아이템/사용자의 콘텐츠 설명과 timestamp 및 위치와 같은 contextual signal들을 통합하는 데에도 유용합니다. 분명히 다른 입력 데이터를 사용할 수 있을 때 모델 유형/구조를 조정해야 할 수도 있습니다."
   ]
  },
  {
   "cell_type": "markdown",
   "metadata": {},
   "source": [
    "## Explicit Feedback and Implicit Feedback"
   ]
  },
  {
   "cell_type": "markdown",
   "metadata": {},
   "source": [
    "사용자의 선호도를 학습하기 위해서는, 시스템이 사용자로부터 피드백을 수집해야만 합니다. 피드백은 암묵적 또는 명시적일 수 있습니다. 예를들어 [IMDB 데이터셋](https://www.imdb.com/) 에서는 영화에 대해 1점부터 10점까지 평점을 수집합니다. 유튜브는 사용자의 선호도를 반영하기 위해 좋아요와 싫어요 버튼을 제공합니다. \n",
    "\n",
    "명시적 피드백을 수집하기 위해서는 사전에 사용자가 선호도를 표시해야만 합니다. 그럼에도 불구하고 명시적 피드백은 다수의 사용자가 제품에 대해 평가하는 것을 꺼릴 수 있기 때문에 항상 이용가능한 것은 아닙니다. \n",
    "\n",
    "상대적으로 암묵적 피드백은 사용자의 클릭과 같은 암시적인 행동을 통해 모델링 하는것과 관련이 있기 때문에 쉽게 이용 가능합니다. 그에 따라 많은 추천 시스템은 사용자의 행동을 관찰함으로써 사용자의 의견을 간접적으로 반영하는 암묵적 피드백에 대해서 집중합니다. 구매 이력, 브라우저 탐색 이력, 시계 및 마우스의 움직임등을 포함한 다양한 형태의 암묵적 피드백이 있습니다. 예를 들어, 같은 저자의 책을 여러 권 구매한 사용자는 아마도 저자를 좋아할 것입니다. 암묵적 피드백은 본질적으로 noisy합니다. 우리는 사용자의 취향과 동기를 추측할 수 있을 뿐입니다. 영화를 본 사용자가 반드시 그 영화에 대한 긍정적인 견해를 나타내는 것은 아닙니다."
   ]
  },
  {
   "cell_type": "markdown",
   "metadata": {},
   "source": [
    "## Recommendation Tasks"
   ]
  },
  {
   "cell_type": "markdown",
   "metadata": {},
   "source": [
    "지난 수십 년 동안 많은 추천 task들이 조사되었습니다. 도메인에 기반하여 영화 추천, 뉴스 추천, 관심장소 추천 [[Ye et al., 2011]](https://d2l.ai/chapter_references/zreferences.html#ye-yin-lee-ea-2011) 등이 있습니다. 또한 피드백 및 입력 데이터의 유형에 따라 task를 구별하는 것도 가능합니다. 예를 들어 평점 예측 task는 명시적 평점을 예측하는 것을 목표로 합니다. Top-n 추천(item ranking)은 암묵적 피드백을 기반으로 각 사용자의 모든 항목을 개인적으로 순위를 지정합니다. timestamp 정보도 포함되면 sequence-aware 추천 시스템 [[Quadrana et al., 2018]](https://d2l.ai/chapter_references/zreferences.html#quadrana-cremonesi-jannach-2018) 을 구축할 수 있습니다. 또 다른 인기 있는 task는 암묵적 피드백에 기반하지만 다양한 범주형 변수을 이용하여 클릭율을 예측하는 것입니다. 신규 사용자에게 추천하고 기존 사용자에게 새로운 아이템을 추천하는 것을 cold-start 추천이라고 합니다[Schein et al., 2002]."
   ]
  },
  {
   "cell_type": "markdown",
   "metadata": {},
   "source": [
    "## Summary"
   ]
  },
  {
   "cell_type": "markdown",
   "metadata": {},
   "source": [
    "- 추천 시스템은 개별 사용자와 산업에서 중요합니다. Collaborative Filtering은 추천에서 핵심 개념입니다.\n",
    "\n",
    "- 피드백의 유형은 2가지로 분류됩니다. 암묵적 피드백과 명시적 피드백. 지난 10년 동안 많은 추천 task들이 탐색되었습니다."
   ]
  },
  {
   "cell_type": "markdown",
   "metadata": {},
   "source": [
    "## Exercise"
   ]
  },
  {
   "cell_type": "markdown",
   "metadata": {},
   "source": [
    "1. 추천 시스템이 당신의 일상 생활 속에서 얼만큼 영향을 미치는지 설명할 수 있나요?\n",
    "\n",
    "2. 당신이 생각하기에 어떤 흥미로운 추천 시스템의 task를 조사해볼 수 있을까요?"
   ]
  }
 ],
 "metadata": {
  "kernelspec": {
   "display_name": "recsys_stdy",
   "language": "python",
   "name": "recsys_study"
  },
  "language_info": {
   "codemirror_mode": {
    "name": "ipython",
    "version": 3
   },
   "file_extension": ".py",
   "mimetype": "text/x-python",
   "name": "python",
   "nbconvert_exporter": "python",
   "pygments_lexer": "ipython3",
   "version": "3.8.11"
  },
  "latex_envs": {
   "LaTeX_envs_menu_present": true,
   "autoclose": false,
   "autocomplete": true,
   "bibliofile": "biblio.bib",
   "cite_by": "apalike",
   "current_citInitial": 1,
   "eqLabelWithNumbers": true,
   "eqNumInitial": 1,
   "hotkeys": {
    "equation": "Ctrl-E",
    "itemize": "Ctrl-I"
   },
   "labels_anchors": false,
   "latex_user_defs": false,
   "report_style_numbering": false,
   "user_envs_cfg": false
  },
  "toc": {
   "base_numbering": 1,
   "nav_menu": {},
   "number_sections": true,
   "sideBar": true,
   "skip_h1_title": false,
   "title_cell": "Table of Contents",
   "title_sidebar": "Contents",
   "toc_cell": true,
   "toc_position": {
    "height": "calc(100% - 180px)",
    "left": "10px",
    "top": "150px",
    "width": "384px"
   },
   "toc_section_display": true,
   "toc_window_display": true
  }
 },
 "nbformat": 4,
 "nbformat_minor": 4
}
